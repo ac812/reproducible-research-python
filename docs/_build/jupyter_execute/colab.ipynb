{
 "cells": [
  {
   "cell_type": "markdown",
   "id": "9d54a9e2",
   "metadata": {},
   "source": [
    "# Introducing Colaboratory\n",
    "\n",
    "**Colaboratory** or **Colab** is a free cloud-based platform provided by Google that allows user to write and execute\n",
    "Python\n",
    "code\n",
    "in a browser environment. The main advantages of Colab are:\n",
    "\n",
    "* **Free cloud-based computing**:  Colab allows you to run a Python Jupyter Notebook directly in your browser, without\n",
    "  the need for any setup or installation!  The code runs on Google's powerful cloud infrastructure.\n",
    "* **Collaboration**: Similarly to Google Docs, multiple users are able to work simultaneously on the same notebook,\n",
    "  enabling real-time collaboration.\n",
    "* **Pre-installed libraries**:  Colab comes with many popular Python libraries pre-installed, including NumPy, Pandas,\n",
    "  Matplotlib, among others. This allows users to get started more quickly, eliminating the need to spend time installing\n",
    "  these libraries.\n",
    "* **Integration with Google Drive and GitHub**: Colab creates notebooks on Google Drive allowing users to store these\n",
    "  files in their respective folders on Google Drive. It also supports integration with GitHub, enabling version control\n",
    "  and easy sharing of notebooks with the broader community. We will look at how to do this later on in the course.\n",
    "\n",
    "In this course, we are going to use Colab to create Jupyter Notebooks. There are several other tools that one can use to\n",
    "create Jupyter Notebooks and we will be looking at creating Jupyter Notebooks in PyCharm, for those who prefer to use an\n",
    "Integrated Development Environment (IDE) to code.\n",
    "\n",
    "## Creating Jupyter Notebooks in Colab\n",
    "\n",
    "To create a Jupyter Notebook in Colab:\n",
    "\n",
    "1. Log in to your Google account.\n",
    "2. Select or create the folder where you want to create your Colab document.\n",
    "3. Select **New|More** and choose **Colab**. If **Colab** is not on your list, this means that the Colab app is not\n",
    "   installed in your Google account. To install Colab, select **New|More|Connect more apps**. In the Google Marketplace\n",
    "   window, search for **Colab**, select the Colaboratory app as shown below, and follow the installation instructions.\n",
    "   ![colab-app](images/colab-app.png)\n",
    "4. Once installed, to create a new Colab document, in your Google Drive select **New|More|Google Colaboratory**. This\n",
    "   creates a new Colab document as shown below:\n",
    "   ![new-colab](images/new-colab.png)\n",
    "5. The Colab document is automatically renamed as `Untitled`. Note also that it has the `.ipynb` extension.  **Jupyter\n",
    "   Notebook files have a `.ipynb` file extension.**  To rename the document, click on the file name at the top-left hand\n",
    "   side on the document and rename it to `notebook1.ipynb`. ![colab-rename](images/colab-rename.png)\n",
    "\n",
    "Well done, you have just created your first Jupyter Notebook!  The Notebook is currently empty, so let's get started\n",
    "with filling this up.\n",
    "\n",
    "## Jupyter Notebook Cells\n",
    "\n",
    "A Jupyter notebook is composed of a list of cells. You can add as many cells as you need in your Notebook. In Colab,\n",
    "cells can be of two types:\n",
    "\n",
    "1. Code\n",
    "2. Text\n",
    "\n",
    "## Running Jupyter Notebooks\n",
    "\n",
    "When creating a new Colab document, the notebook is initialised with an empty code cell.\n",
    "\n",
    "1. In the code cell displayed, enter the following `print(\"Hello Jupyter!\")`\n",
    "2. Click on the Play icon ![colab-play](images/colab-play.png) in the left gutter of the cell \n",
    "to get the output of the code displayed underneath the code cell. The output should be as follows: \n",
    "\n",
    "```{figure} images/colab-hello-jupyter.png\n",
    "---\n",
    "name: colab-hello-jupyter\n",
    "scale: 40%\n",
    "---\n",
    "```"
   ]
  }
 ],
 "metadata": {
  "jupytext": {
   "formats": "md:myst",
   "text_representation": {
    "extension": ".md",
    "format_name": "myst"
   }
  },
  "kernelspec": {
   "display_name": "Python 3",
   "language": "python",
   "name": "python3"
  },
  "language_info": {
   "codemirror_mode": {
    "name": "ipython",
    "version": 3
   },
   "file_extension": ".py",
   "mimetype": "text/x-python",
   "name": "python",
   "nbconvert_exporter": "python",
   "pygments_lexer": "ipython3",
   "version": "3.10.8"
  },
  "source_map": [
   11
  ]
 },
 "nbformat": 4,
 "nbformat_minor": 5
}
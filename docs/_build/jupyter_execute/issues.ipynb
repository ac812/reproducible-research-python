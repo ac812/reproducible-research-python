{
 "cells": [
  {
   "cell_type": "markdown",
   "id": "8f4e9dfe",
   "metadata": {},
   "source": [
    "# Creating issues\n",
    "\n",
    "In the previous example we have learnt how to create a repository and a file. One feature that is very useful in GitHub\n",
    "to help in the project management of your code are issues. **Issues** are created to suggest an idea, improvements or\n",
    "keep track of bugs, in other words, it can be viewed as a task list for the project. Issues are very useful especially\n",
    "when working collaboratively. They are very simple to use and are often ways to have a discussion between collaborators\n",
    "on a particular issue.\n",
    "\n",
    "```{exercise-start} Exercise 3.4: Creating an issue\n",
    ":label: exercise-issue\n",
    "```\n",
    "**Level:** {octicon}`star-fill;1em;sd-text-warning` {octicon}`star;1em;sd-text-warning` {octicon}`star;1em;sd-text-warning`\n",
    "\n",
    "In this example we will learn how to create an issue in GitHub and add a label to it to categorise it appropriately (for example;\n",
    "bug, enhancement, help wanted, etc...).\n",
    "\n",
    "Please follow the step-by-step instructions on how to create an issue on GitHub below.  Please click on the forward arrows to go through the\n",
    "instructions one step at a time. Click on the three vertical dots to enter in full screen mode to see the slides better.\n",
    "\n",
    "<div class=\"container\"> \n",
    "  <iframe class=\"responsive-iframe\" src=\"https://docs.google.com/presentation/d/1V_CfofrUzIzzCLkA54sittb9hhk_3zUHTW4BMBDaFIY/embed?start=false&loop=false&delayms=3000\" frameborder=\"0\" width=\"960\" height=\"569\" allowfullscreen=\"true\" mozallowfullscreen=\"true\" webkitallowfullscreen=\"true\"></iframe>\n",
    "</div>\n",
    "\n",
    "```{exercise-end}\n",
    "```"
   ]
  }
 ],
 "metadata": {
  "jupytext": {
   "formats": "md:myst",
   "text_representation": {
    "extension": ".md",
    "format_name": "myst"
   }
  },
  "kernelspec": {
   "display_name": "Python 3",
   "language": "python",
   "name": "python3"
  },
  "language_info": {
   "codemirror_mode": {
    "name": "ipython",
    "version": 3
   },
   "file_extension": ".py",
   "mimetype": "text/x-python",
   "name": "python",
   "nbconvert_exporter": "python",
   "pygments_lexer": "ipython3",
   "version": "3.10.8"
  },
  "source_map": [
   11
  ]
 },
 "nbformat": 4,
 "nbformat_minor": 5
}
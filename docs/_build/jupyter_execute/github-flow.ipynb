{
 "cells": [
  {
   "cell_type": "markdown",
   "id": "c983ead2",
   "metadata": {},
   "source": [
    "# The GitHub flow\n",
    "\n",
    "A better way of describing the process above is via the GitHub workflow. There are several different workflows, *e.g.,*\n",
    "git-flow, GitHub flow and GitLab flow. It is not the scope of this course to get into details about the different\n",
    "software development versioning models. However, we will look briefly at GitHub flow which is one of the simple\n",
    "workflows available, with the aim to understand the basic constructs of software development versioning models so that\n",
    "we can adopt good practices when sharing code or working in teams. The main rule of the GitHub flow is that anything in\n",
    "the `main` branch is deployable. The `main` branch is the central branch which reflects what is deployed. Therefore,\n",
    "the `main` branch should always be in a ready state and stable.\n",
    "\n",
    "The GitHub flow steps consist of the following:\n",
    "\n",
    "- **Create a branch**: If you want to make changes to the files present in the `main` branch, you will need to create a\n",
    "  new branch off of the `main` branch; we will refer to this as a `feature` branch. Name this `feature` branch with a\n",
    "  descriptive name that reflects the change that you would like to do *e.g.* `fix-issue1`, `add-chapter1`. By creating a\n",
    "  new `feature` branch off the `main` branch, you can safely do any changes you want without worrying of breaking\n",
    "  the `main` branch. When you create a branch from your `main` branch, you're creating a copy of the `main` repository\n",
    "  where you can add your new features or try out new ideas without effecting the `main` repository.\n",
    "\n",
    "- **Make changes to the files and then commit to the `feature` branch**. Adding commits to the `feature` branch is\n",
    "  important as it keeps track of the updates that you do to your files and also the reason why they were made (make sure\n",
    "  you write clear commit messages). The creation of a `feature` branch allows us to keep track of any changes that are\n",
    "  done and compare the difference between the `main` and the `feature` branch. In this way you can have multiple people\n",
    "  working on different things at the same time as you have a stable `main` branch and all the other existent branches\n",
    "  are fixes or updates that are work-in-progress to the project. Committing changes to the `feature` branch is also\n",
    "  important as it helps you back up your work in case of a system failure or loss.\n",
    "\n",
    "- **Open a pull request**: Once you have tested the changes you have applied on your code to make sure that everything\n",
    "  is running well and you are happy with the changes/commits done on the `feature` branch, the next step is to propose\n",
    "  these changes to be submitted into the `main` branch for someone to review your work. This is done by creating a *\n",
    "  *pull request**. You can use the `@mention` system on GitHub to bring this to attention to specific people.\n",
    "\n",
    "- **Discussion and review**: The whole idea is that when you create a new pull request, this will enable a process of\n",
    "  discussion and feedback about the changes being proposed back and forth between the developers of the `main` branch\n",
    "  and yourself (the person that created the pull request). If you need to make additional changes to your `feature`\n",
    "  branch after discussion, you can commit the changes to the `feature` branch again and then push the change. Pull\n",
    "  requests can be written in Markdown so you can easily add images and other markdown formatting.\n",
    "\n",
    "- **Merge**: Now that the code and files you have committed have passed all your testing, you can merge the changes to\n",
    "  the existing `main` repository so that now they form part of the `main` repository. The good thing about all this\n",
    "  process is that all the changes made during this process are preserved and anyone can track changes made in each merge\n",
    "  and why they were made.\n",
    "\n",
    "```{figure} images/github-flow.png\n",
    "---\n",
    "name: fig-github-flow\n",
    "---\n",
    "GitHub flow. Please note that `master` in the image is now referred to as `main`. Image by GitHub.\n",
    "```\n",
    "\n",
    "\n",
    "```{exercise-start} Exercise 3.6: GitHub flow in action\n",
    ":label: exercise-github-flow\n",
    "```\n",
    "**Level:** {octicon}`star-fill;1em;sd-text-warning` {octicon}`star-fill;1em;sd-text-warning` {octicon}`star;1em;sd-text-warning`\n",
    "\n",
    "In this exercise we will be going over the GitHub flow in action. We will fix the issue that we have opened in [the issue exercise](exercise-issue)\n",
    "We will do this by creating a feature branch that will hold the changes related to fixing this issue. A pull\n",
    "request will be then sent to inform which changes in the feature branch are ready. These changes are then merged into\n",
    "the `main` branch.\n",
    "\n",
    "Please follow the step-by-step instructions of the GitHub flow below.  Please click on the forward arrows to go through the\n",
    "instructions one step at a time. Click on the three vertical dots to enter in full screen mode to see the slides better.\n",
    "\n",
    "<div class=\"container\"> \n",
    "  <iframe class=\"responsive-iframe\" src=\"https://docs.google.com/presentation/d/1-tu8AIDkDQ2i8RbxlZWQGl-NP6CpThssa5ndVioc5pk/embed?start=false&loop=false&delayms=3000\" frameborder=\"0\" width=\"960\" height=\"569\" allowfullscreen=\"true\" mozallowfullscreen=\"true\" webkitallowfullscreen=\"true\"></iframe>\n",
    "</div>\n",
    "\n",
    "```{exercise-end}\n",
    "```"
   ]
  }
 ],
 "metadata": {
  "jupytext": {
   "formats": "md:myst",
   "text_representation": {
    "extension": ".md",
    "format_name": "myst"
   }
  },
  "kernelspec": {
   "display_name": "Python 3",
   "language": "python",
   "name": "python3"
  },
  "language_info": {
   "codemirror_mode": {
    "name": "ipython",
    "version": 3
   },
   "file_extension": ".py",
   "mimetype": "text/x-python",
   "name": "python",
   "nbconvert_exporter": "python",
   "pygments_lexer": "ipython3",
   "version": "3.10.8"
  },
  "source_map": [
   11
  ]
 },
 "nbformat": 4,
 "nbformat_minor": 5
}